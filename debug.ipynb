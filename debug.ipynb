{
 "metadata": {
  "language_info": {
   "codemirror_mode": {
    "name": "ipython",
    "version": 3
   },
   "file_extension": ".py",
   "mimetype": "text/x-python",
   "name": "python",
   "nbconvert_exporter": "python",
   "pygments_lexer": "ipython3",
   "version": "3.7.7-final"
  },
  "orig_nbformat": 2,
  "kernelspec": {
   "name": "Python 3.7.7 64-bit",
   "display_name": "Python 3.7.7 64-bit",
   "metadata": {
    "interpreter": {
     "hash": "9eef218dc4c5bdeccf41b728bb755f447bae7093240cd7b7d23d239c39a80309"
    }
   }
  }
 },
 "nbformat": 4,
 "nbformat_minor": 2,
 "cells": [
  {
   "cell_type": "code",
   "execution_count": 16,
   "metadata": {},
   "outputs": [],
   "source": [
    "import pandas as pd\n",
    "\n",
    "fonte = \"https://github.com/alura-cursos/imersao-dados-2-2020/blob/master/MICRODADOS_ENEM_2019_SAMPLE_43278.csv?raw=true\"\n",
    "\n",
    "dados = pd.read_csv(fonte)"
   ]
  },
  {
   "cell_type": "code",
   "execution_count": 19,
   "metadata": {},
   "outputs": [],
   "source": [
    "dominio = {'IN_BAIXA_VISAO': [1,0],'Descricao': ['Sim','Não']}\n",
    "dfDominioSimNao = pd.DataFrame(dominio,columns=dominio.keys())"
   ]
  },
  {
   "cell_type": "code",
   "execution_count": 20,
   "metadata": {},
   "outputs": [
    {
     "output_type": "execute_result",
     "data": {
      "text/plain": [
       "        NU_INSCRICAO  NU_ANO  CO_MUNICIPIO_RESIDENCIA NO_MUNICIPIO_RESIDENCIA  \\\n",
       "0       190001004661    2019                  1506138                Redenção   \n",
       "1       190001004674    2019                  1504208                  Marabá   \n",
       "2       190001004722    2019                  1501402                   Belém   \n",
       "3       190001004735    2019                  1507300      São Félix do Xingu   \n",
       "4       190001004776    2019                  1500800              Ananindeua   \n",
       "...              ...     ...                      ...                     ...   \n",
       "127375  190006120035    2019                  3142700             Montalvânia   \n",
       "127376  190006120036    2019                  2902807         Barra da Estiva   \n",
       "127377  190006120037    2019                  2927408                Salvador   \n",
       "127378  190006120060    2019                  2930709            Simões Filho   \n",
       "127379  190006120170    2019                  3106200          Belo Horizonte   \n",
       "\n",
       "        CO_UF_RESIDENCIA SG_UF_RESIDENCIA  NU_IDADE TP_SEXO  TP_ESTADO_CIVIL  \\\n",
       "0                     15               PA        17       M                1   \n",
       "1                     15               PA        23       M                1   \n",
       "2                     15               PA        35       F                2   \n",
       "3                     15               PA        23       F                1   \n",
       "4                     15               PA        16       F                1   \n",
       "...                  ...              ...       ...     ...              ...   \n",
       "127375                31               MG        17       F                1   \n",
       "127376                29               BA        18       M                1   \n",
       "127377                29               BA        22       F                1   \n",
       "127378                29               BA        26       F                2   \n",
       "127379                31               MG        19       M                1   \n",
       "\n",
       "        TP_COR_RACA  ...  Q017  Q018 Q019  Q020 Q021  Q022  Q023  Q024  Q025  \\\n",
       "0                 3  ...     A     A    A     B    A     C     A     B     B   \n",
       "1                 3  ...     A     A    B     A    A     B     A     A     B   \n",
       "2                 1  ...     A     A    B     A    B     B     A     A     B   \n",
       "3                 3  ...     A     A    B     A    A     B     A     A     B   \n",
       "4                 3  ...     A     A    B     A    A     D     A     A     B   \n",
       "...             ...  ...   ...   ...  ...   ...  ...   ...   ...   ...   ...   \n",
       "127375            1  ...     A     A    B     A    A     D     A     B     B   \n",
       "127376            2  ...     A     A    B     A    A     D     A     B     B   \n",
       "127377            3  ...     A     A    A     A    A     B     A     A     B   \n",
       "127378            2  ...     A     A    B     A    A     C     A     A     A   \n",
       "127379            2  ...     A     A    B     A    A     B     B     A     B   \n",
       "\n",
       "        Descricao  \n",
       "0             Não  \n",
       "1             Não  \n",
       "2             Não  \n",
       "3             Não  \n",
       "4             Não  \n",
       "...           ...  \n",
       "127375        Não  \n",
       "127376        Não  \n",
       "127377        Não  \n",
       "127378        Não  \n",
       "127379        Não  \n",
       "\n",
       "[127380 rows x 137 columns]"
      ],
      "text/html": "<div>\n<style scoped>\n    .dataframe tbody tr th:only-of-type {\n        vertical-align: middle;\n    }\n\n    .dataframe tbody tr th {\n        vertical-align: top;\n    }\n\n    .dataframe thead th {\n        text-align: right;\n    }\n</style>\n<table border=\"1\" class=\"dataframe\">\n  <thead>\n    <tr style=\"text-align: right;\">\n      <th></th>\n      <th>NU_INSCRICAO</th>\n      <th>NU_ANO</th>\n      <th>CO_MUNICIPIO_RESIDENCIA</th>\n      <th>NO_MUNICIPIO_RESIDENCIA</th>\n      <th>CO_UF_RESIDENCIA</th>\n      <th>SG_UF_RESIDENCIA</th>\n      <th>NU_IDADE</th>\n      <th>TP_SEXO</th>\n      <th>TP_ESTADO_CIVIL</th>\n      <th>TP_COR_RACA</th>\n      <th>...</th>\n      <th>Q017</th>\n      <th>Q018</th>\n      <th>Q019</th>\n      <th>Q020</th>\n      <th>Q021</th>\n      <th>Q022</th>\n      <th>Q023</th>\n      <th>Q024</th>\n      <th>Q025</th>\n      <th>Descricao</th>\n    </tr>\n  </thead>\n  <tbody>\n    <tr>\n      <th>0</th>\n      <td>190001004661</td>\n      <td>2019</td>\n      <td>1506138</td>\n      <td>Redenção</td>\n      <td>15</td>\n      <td>PA</td>\n      <td>17</td>\n      <td>M</td>\n      <td>1</td>\n      <td>3</td>\n      <td>...</td>\n      <td>A</td>\n      <td>A</td>\n      <td>A</td>\n      <td>B</td>\n      <td>A</td>\n      <td>C</td>\n      <td>A</td>\n      <td>B</td>\n      <td>B</td>\n      <td>Não</td>\n    </tr>\n    <tr>\n      <th>1</th>\n      <td>190001004674</td>\n      <td>2019</td>\n      <td>1504208</td>\n      <td>Marabá</td>\n      <td>15</td>\n      <td>PA</td>\n      <td>23</td>\n      <td>M</td>\n      <td>1</td>\n      <td>3</td>\n      <td>...</td>\n      <td>A</td>\n      <td>A</td>\n      <td>B</td>\n      <td>A</td>\n      <td>A</td>\n      <td>B</td>\n      <td>A</td>\n      <td>A</td>\n      <td>B</td>\n      <td>Não</td>\n    </tr>\n    <tr>\n      <th>2</th>\n      <td>190001004722</td>\n      <td>2019</td>\n      <td>1501402</td>\n      <td>Belém</td>\n      <td>15</td>\n      <td>PA</td>\n      <td>35</td>\n      <td>F</td>\n      <td>2</td>\n      <td>1</td>\n      <td>...</td>\n      <td>A</td>\n      <td>A</td>\n      <td>B</td>\n      <td>A</td>\n      <td>B</td>\n      <td>B</td>\n      <td>A</td>\n      <td>A</td>\n      <td>B</td>\n      <td>Não</td>\n    </tr>\n    <tr>\n      <th>3</th>\n      <td>190001004735</td>\n      <td>2019</td>\n      <td>1507300</td>\n      <td>São Félix do Xingu</td>\n      <td>15</td>\n      <td>PA</td>\n      <td>23</td>\n      <td>F</td>\n      <td>1</td>\n      <td>3</td>\n      <td>...</td>\n      <td>A</td>\n      <td>A</td>\n      <td>B</td>\n      <td>A</td>\n      <td>A</td>\n      <td>B</td>\n      <td>A</td>\n      <td>A</td>\n      <td>B</td>\n      <td>Não</td>\n    </tr>\n    <tr>\n      <th>4</th>\n      <td>190001004776</td>\n      <td>2019</td>\n      <td>1500800</td>\n      <td>Ananindeua</td>\n      <td>15</td>\n      <td>PA</td>\n      <td>16</td>\n      <td>F</td>\n      <td>1</td>\n      <td>3</td>\n      <td>...</td>\n      <td>A</td>\n      <td>A</td>\n      <td>B</td>\n      <td>A</td>\n      <td>A</td>\n      <td>D</td>\n      <td>A</td>\n      <td>A</td>\n      <td>B</td>\n      <td>Não</td>\n    </tr>\n    <tr>\n      <th>...</th>\n      <td>...</td>\n      <td>...</td>\n      <td>...</td>\n      <td>...</td>\n      <td>...</td>\n      <td>...</td>\n      <td>...</td>\n      <td>...</td>\n      <td>...</td>\n      <td>...</td>\n      <td>...</td>\n      <td>...</td>\n      <td>...</td>\n      <td>...</td>\n      <td>...</td>\n      <td>...</td>\n      <td>...</td>\n      <td>...</td>\n      <td>...</td>\n      <td>...</td>\n      <td>...</td>\n    </tr>\n    <tr>\n      <th>127375</th>\n      <td>190006120035</td>\n      <td>2019</td>\n      <td>3142700</td>\n      <td>Montalvânia</td>\n      <td>31</td>\n      <td>MG</td>\n      <td>17</td>\n      <td>F</td>\n      <td>1</td>\n      <td>1</td>\n      <td>...</td>\n      <td>A</td>\n      <td>A</td>\n      <td>B</td>\n      <td>A</td>\n      <td>A</td>\n      <td>D</td>\n      <td>A</td>\n      <td>B</td>\n      <td>B</td>\n      <td>Não</td>\n    </tr>\n    <tr>\n      <th>127376</th>\n      <td>190006120036</td>\n      <td>2019</td>\n      <td>2902807</td>\n      <td>Barra da Estiva</td>\n      <td>29</td>\n      <td>BA</td>\n      <td>18</td>\n      <td>M</td>\n      <td>1</td>\n      <td>2</td>\n      <td>...</td>\n      <td>A</td>\n      <td>A</td>\n      <td>B</td>\n      <td>A</td>\n      <td>A</td>\n      <td>D</td>\n      <td>A</td>\n      <td>B</td>\n      <td>B</td>\n      <td>Não</td>\n    </tr>\n    <tr>\n      <th>127377</th>\n      <td>190006120037</td>\n      <td>2019</td>\n      <td>2927408</td>\n      <td>Salvador</td>\n      <td>29</td>\n      <td>BA</td>\n      <td>22</td>\n      <td>F</td>\n      <td>1</td>\n      <td>3</td>\n      <td>...</td>\n      <td>A</td>\n      <td>A</td>\n      <td>A</td>\n      <td>A</td>\n      <td>A</td>\n      <td>B</td>\n      <td>A</td>\n      <td>A</td>\n      <td>B</td>\n      <td>Não</td>\n    </tr>\n    <tr>\n      <th>127378</th>\n      <td>190006120060</td>\n      <td>2019</td>\n      <td>2930709</td>\n      <td>Simões Filho</td>\n      <td>29</td>\n      <td>BA</td>\n      <td>26</td>\n      <td>F</td>\n      <td>2</td>\n      <td>2</td>\n      <td>...</td>\n      <td>A</td>\n      <td>A</td>\n      <td>B</td>\n      <td>A</td>\n      <td>A</td>\n      <td>C</td>\n      <td>A</td>\n      <td>A</td>\n      <td>A</td>\n      <td>Não</td>\n    </tr>\n    <tr>\n      <th>127379</th>\n      <td>190006120170</td>\n      <td>2019</td>\n      <td>3106200</td>\n      <td>Belo Horizonte</td>\n      <td>31</td>\n      <td>MG</td>\n      <td>19</td>\n      <td>M</td>\n      <td>1</td>\n      <td>2</td>\n      <td>...</td>\n      <td>A</td>\n      <td>A</td>\n      <td>B</td>\n      <td>A</td>\n      <td>A</td>\n      <td>B</td>\n      <td>B</td>\n      <td>A</td>\n      <td>B</td>\n      <td>Não</td>\n    </tr>\n  </tbody>\n</table>\n<p>127380 rows × 137 columns</p>\n</div>"
     },
     "metadata": {},
     "execution_count": 20
    }
   ],
   "source": [
    "dfMerge = pd.merge(dados,dfDominioSimNao, on = 'IN_BAIXA_VISAO', how= 'left')\n",
    "dfMerge"
   ]
  },
  {
   "cell_type": "code",
   "execution_count": null,
   "metadata": {},
   "outputs": [],
   "source": []
  }
 ]
}